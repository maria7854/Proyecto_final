{
  "cells": [
    {
      "cell_type": "code",
      "execution_count": null,
      "id": "3513d6ed",
      "metadata": {
        "_cell_guid": "b1076dfc-b9ad-4769-8c92-a6c4dae69d19",
        "_uuid": "8f2839f25d086af736a60e9eeb907d3b93b6e0e5",
        "execution": {
          "iopub.execute_input": "2023-10-05T14:50:32.033220Z",
          "iopub.status.busy": "2023-10-05T14:50:32.032837Z",
          "iopub.status.idle": "2023-10-05T14:50:34.150064Z",
          "shell.execute_reply": "2023-10-05T14:50:34.148724Z"
        },
        "papermill": {
          "duration": 2.130256,
          "end_time": "2023-10-05T14:50:34.153340",
          "exception": false,
          "start_time": "2023-10-05T14:50:32.023084",
          "status": "completed"
        },
        "tags": [],
        "id": "3513d6ed",
        "outputId": "9b8bc143-204c-43ce-dd09-a32dcdc9b8eb"
      },
      "outputs": [
        {
          "name": "stdout",
          "output_type": "stream",
          "text": [
            "/kaggle/input/world-instant-noodles-consumption-2022/noodles.csv\n"
          ]
        }
      ],
      "source": [
        "import numpy as np # linear algebra\n",
        "import pandas as pd # data processing, CSV file I/O (e.g. pd.read_csv)\n",
        "import matplotlib.pyplot as plt\n",
        "import seaborn as sns\n",
        "import os\n",
        "for dirname, _, filenames in os.walk('/kaggle/input'):\n",
        "    for filename in filenames:\n",
        "        print(os.path.join(dirname, filename))\n"
      ]
    },
    {
      "cell_type": "code",
      "execution_count": null,
      "id": "097945fe",
      "metadata": {
        "execution": {
          "iopub.execute_input": "2023-10-05T14:50:34.166849Z",
          "iopub.status.busy": "2023-10-05T14:50:34.166244Z",
          "iopub.status.idle": "2023-10-05T14:50:34.219093Z",
          "shell.execute_reply": "2023-10-05T14:50:34.217943Z"
        },
        "papermill": {
          "duration": 0.062466,
          "end_time": "2023-10-05T14:50:34.221773",
          "exception": false,
          "start_time": "2023-10-05T14:50:34.159307",
          "status": "completed"
        },
        "tags": [],
        "id": "097945fe",
        "outputId": "466c7fc9-f8fe-4927-bb95-739c34e8560f"
      },
      "outputs": [
        {
          "data": {
            "text/html": [
              "<div>\n",
              "<style scoped>\n",
              "    .dataframe tbody tr th:only-of-type {\n",
              "        vertical-align: middle;\n",
              "    }\n",
              "\n",
              "    .dataframe tbody tr th {\n",
              "        vertical-align: top;\n",
              "    }\n",
              "\n",
              "    .dataframe thead th {\n",
              "        text-align: right;\n",
              "    }\n",
              "</style>\n",
              "<table border=\"1\" class=\"dataframe\">\n",
              "  <thead>\n",
              "    <tr style=\"text-align: right;\">\n",
              "      <th></th>\n",
              "      <th>Country/Region</th>\n",
              "      <th>2018</th>\n",
              "      <th>2019</th>\n",
              "      <th>2020</th>\n",
              "      <th>2021</th>\n",
              "      <th>2022</th>\n",
              "      <th>Rank</th>\n",
              "      <th>CCA3</th>\n",
              "      <th>Country/Territory</th>\n",
              "      <th>Capital</th>\n",
              "      <th>Continent</th>\n",
              "      <th>2022 Population</th>\n",
              "    </tr>\n",
              "  </thead>\n",
              "  <tbody>\n",
              "    <tr>\n",
              "      <th>0</th>\n",
              "      <td>China</td>\n",
              "      <td>40250.0</td>\n",
              "      <td>41450.0</td>\n",
              "      <td>46360.0</td>\n",
              "      <td>43990</td>\n",
              "      <td>45070.0</td>\n",
              "      <td>1</td>\n",
              "      <td>CHN</td>\n",
              "      <td>China</td>\n",
              "      <td>Beijing</td>\n",
              "      <td>Asia</td>\n",
              "      <td>1425887337</td>\n",
              "    </tr>\n",
              "    <tr>\n",
              "      <th>1</th>\n",
              "      <td>Indonesia</td>\n",
              "      <td>12540.0</td>\n",
              "      <td>12520.0</td>\n",
              "      <td>12640.0</td>\n",
              "      <td>13270</td>\n",
              "      <td>14260.0</td>\n",
              "      <td>4</td>\n",
              "      <td>IDN</td>\n",
              "      <td>Indonesia</td>\n",
              "      <td>Jakarta</td>\n",
              "      <td>Asia</td>\n",
              "      <td>275501339</td>\n",
              "    </tr>\n",
              "    <tr>\n",
              "      <th>2</th>\n",
              "      <td>India</td>\n",
              "      <td>6060.0</td>\n",
              "      <td>6730.0</td>\n",
              "      <td>6730.0</td>\n",
              "      <td>7560</td>\n",
              "      <td>7580.0</td>\n",
              "      <td>2</td>\n",
              "      <td>IND</td>\n",
              "      <td>India</td>\n",
              "      <td>New Delhi</td>\n",
              "      <td>Asia</td>\n",
              "      <td>1417173173</td>\n",
              "    </tr>\n",
              "    <tr>\n",
              "      <th>3</th>\n",
              "      <td>Japan</td>\n",
              "      <td>5780.0</td>\n",
              "      <td>5630.0</td>\n",
              "      <td>5970.0</td>\n",
              "      <td>5850</td>\n",
              "      <td>5980.0</td>\n",
              "      <td>11</td>\n",
              "      <td>JPN</td>\n",
              "      <td>Japan</td>\n",
              "      <td>Tokyo</td>\n",
              "      <td>Asia</td>\n",
              "      <td>123951692</td>\n",
              "    </tr>\n",
              "    <tr>\n",
              "      <th>4</th>\n",
              "      <td>Philippines</td>\n",
              "      <td>3980.0</td>\n",
              "      <td>3850.0</td>\n",
              "      <td>4470.0</td>\n",
              "      <td>4440</td>\n",
              "      <td>4290.0</td>\n",
              "      <td>13</td>\n",
              "      <td>PHL</td>\n",
              "      <td>Philippines</td>\n",
              "      <td>Manila</td>\n",
              "      <td>Asia</td>\n",
              "      <td>115559009</td>\n",
              "    </tr>\n",
              "  </tbody>\n",
              "</table>\n",
              "</div>"
            ],
            "text/plain": [
              "  Country/Region     2018     2019     2020   2021     2022  Rank CCA3  \\\n",
              "0          China  40250.0  41450.0  46360.0  43990  45070.0     1  CHN   \n",
              "1      Indonesia  12540.0  12520.0  12640.0  13270  14260.0     4  IDN   \n",
              "2          India   6060.0   6730.0   6730.0   7560   7580.0     2  IND   \n",
              "3          Japan   5780.0   5630.0   5970.0   5850   5980.0    11  JPN   \n",
              "4    Philippines   3980.0   3850.0   4470.0   4440   4290.0    13  PHL   \n",
              "\n",
              "  Country/Territory    Capital Continent  2022 Population  \n",
              "0             China    Beijing      Asia       1425887337  \n",
              "1         Indonesia    Jakarta      Asia        275501339  \n",
              "2             India  New Delhi      Asia       1417173173  \n",
              "3             Japan      Tokyo      Asia        123951692  \n",
              "4       Philippines     Manila      Asia        115559009  "
            ]
          },
          "execution_count": 2,
          "metadata": {},
          "output_type": "execute_result"
        }
      ],
      "source": [
        "df = pd.read_csv(\"/kaggle/input/world-instant-noodles-consumption-2022/noodles.csv\")\n",
        "df.head(5)"
      ]
    },
    {
      "cell_type": "code",
      "execution_count": null,
      "id": "6c4b0ee8",
      "metadata": {
        "execution": {
          "iopub.execute_input": "2023-10-05T14:50:34.235183Z",
          "iopub.status.busy": "2023-10-05T14:50:34.234107Z",
          "iopub.status.idle": "2023-10-05T14:50:34.258362Z",
          "shell.execute_reply": "2023-10-05T14:50:34.257256Z"
        },
        "papermill": {
          "duration": 0.033152,
          "end_time": "2023-10-05T14:50:34.260522",
          "exception": false,
          "start_time": "2023-10-05T14:50:34.227370",
          "status": "completed"
        },
        "tags": [],
        "id": "6c4b0ee8",
        "outputId": "c6a5da11-8e89-4be4-806b-981fdc5020b3"
      },
      "outputs": [
        {
          "data": {
            "text/html": [
              "<div>\n",
              "<style scoped>\n",
              "    .dataframe tbody tr th:only-of-type {\n",
              "        vertical-align: middle;\n",
              "    }\n",
              "\n",
              "    .dataframe tbody tr th {\n",
              "        vertical-align: top;\n",
              "    }\n",
              "\n",
              "    .dataframe thead th {\n",
              "        text-align: right;\n",
              "    }\n",
              "</style>\n",
              "<table border=\"1\" class=\"dataframe\">\n",
              "  <thead>\n",
              "    <tr style=\"text-align: right;\">\n",
              "      <th></th>\n",
              "      <th>Country/Region</th>\n",
              "      <th>2018</th>\n",
              "      <th>2019</th>\n",
              "      <th>2020</th>\n",
              "      <th>2021</th>\n",
              "      <th>2022</th>\n",
              "      <th>Rank</th>\n",
              "      <th>CCA3</th>\n",
              "      <th>Country/Territory</th>\n",
              "      <th>Capital</th>\n",
              "      <th>Continent</th>\n",
              "      <th>2022 Population</th>\n",
              "    </tr>\n",
              "  </thead>\n",
              "  <tbody>\n",
              "    <tr>\n",
              "      <th>19</th>\n",
              "      <td>Bangladesh</td>\n",
              "      <td>310.0</td>\n",
              "      <td>370.0</td>\n",
              "      <td>370.0</td>\n",
              "      <td>430</td>\n",
              "      <td>440.0</td>\n",
              "      <td>8</td>\n",
              "      <td>BGD</td>\n",
              "      <td>Bangladesh</td>\n",
              "      <td>Dhaka</td>\n",
              "      <td>Asia</td>\n",
              "      <td>171186372</td>\n",
              "    </tr>\n",
              "    <tr>\n",
              "      <th>31</th>\n",
              "      <td>Ethiopia</td>\n",
              "      <td>80.0</td>\n",
              "      <td>80.0</td>\n",
              "      <td>120.0</td>\n",
              "      <td>130</td>\n",
              "      <td>140.0</td>\n",
              "      <td>12</td>\n",
              "      <td>ETH</td>\n",
              "      <td>Ethiopia</td>\n",
              "      <td>Addis Ababa</td>\n",
              "      <td>Africa</td>\n",
              "      <td>123379924</td>\n",
              "    </tr>\n",
              "    <tr>\n",
              "      <th>37</th>\n",
              "      <td>Czech Republic</td>\n",
              "      <td>60.0</td>\n",
              "      <td>70.0</td>\n",
              "      <td>70.0</td>\n",
              "      <td>70</td>\n",
              "      <td>70.0</td>\n",
              "      <td>88</td>\n",
              "      <td>CZE</td>\n",
              "      <td>Czech Republic</td>\n",
              "      <td>Prague</td>\n",
              "      <td>Europe</td>\n",
              "      <td>10493986</td>\n",
              "    </tr>\n",
              "    <tr>\n",
              "      <th>46</th>\n",
              "      <td>Belgium</td>\n",
              "      <td>10.0</td>\n",
              "      <td>20.0</td>\n",
              "      <td>20.0</td>\n",
              "      <td>20</td>\n",
              "      <td>20.0</td>\n",
              "      <td>81</td>\n",
              "      <td>BEL</td>\n",
              "      <td>Belgium</td>\n",
              "      <td>Brussels</td>\n",
              "      <td>Europe</td>\n",
              "      <td>11655930</td>\n",
              "    </tr>\n",
              "    <tr>\n",
              "      <th>0</th>\n",
              "      <td>China</td>\n",
              "      <td>40250.0</td>\n",
              "      <td>41450.0</td>\n",
              "      <td>46360.0</td>\n",
              "      <td>43990</td>\n",
              "      <td>45070.0</td>\n",
              "      <td>1</td>\n",
              "      <td>CHN</td>\n",
              "      <td>China</td>\n",
              "      <td>Beijing</td>\n",
              "      <td>Asia</td>\n",
              "      <td>1425887337</td>\n",
              "    </tr>\n",
              "  </tbody>\n",
              "</table>\n",
              "</div>"
            ],
            "text/plain": [
              "    Country/Region     2018     2019     2020   2021     2022  Rank CCA3  \\\n",
              "19      Bangladesh    310.0    370.0    370.0    430    440.0     8  BGD   \n",
              "31        Ethiopia     80.0     80.0    120.0    130    140.0    12  ETH   \n",
              "37  Czech Republic     60.0     70.0     70.0     70     70.0    88  CZE   \n",
              "46         Belgium     10.0     20.0     20.0     20     20.0    81  BEL   \n",
              "0            China  40250.0  41450.0  46360.0  43990  45070.0     1  CHN   \n",
              "\n",
              "   Country/Territory      Capital Continent  2022 Population  \n",
              "19        Bangladesh        Dhaka      Asia        171186372  \n",
              "31          Ethiopia  Addis Ababa    Africa        123379924  \n",
              "37    Czech Republic       Prague    Europe         10493986  \n",
              "46           Belgium     Brussels    Europe         11655930  \n",
              "0              China      Beijing      Asia       1425887337  "
            ]
          },
          "execution_count": 3,
          "metadata": {},
          "output_type": "execute_result"
        }
      ],
      "source": [
        "df.sample(5)"
      ]
    },
    {
      "cell_type": "code",
      "execution_count": null,
      "id": "24fd04fb",
      "metadata": {
        "execution": {
          "iopub.execute_input": "2023-10-05T14:50:34.273927Z",
          "iopub.status.busy": "2023-10-05T14:50:34.272928Z",
          "iopub.status.idle": "2023-10-05T14:50:34.279677Z",
          "shell.execute_reply": "2023-10-05T14:50:34.278890Z"
        },
        "papermill": {
          "duration": 0.01549,
          "end_time": "2023-10-05T14:50:34.281600",
          "exception": false,
          "start_time": "2023-10-05T14:50:34.266110",
          "status": "completed"
        },
        "tags": [],
        "id": "24fd04fb",
        "outputId": "b0ca8de3-e52b-4f9a-adb5-c525d7d4f656"
      },
      "outputs": [
        {
          "data": {
            "text/plain": [
              "636"
            ]
          },
          "execution_count": 4,
          "metadata": {},
          "output_type": "execute_result"
        }
      ],
      "source": [
        "df.size"
      ]
    },
    {
      "cell_type": "code",
      "execution_count": null,
      "id": "55cddf8f",
      "metadata": {
        "execution": {
          "iopub.execute_input": "2023-10-05T14:50:34.294475Z",
          "iopub.status.busy": "2023-10-05T14:50:34.293821Z",
          "iopub.status.idle": "2023-10-05T14:50:34.299581Z",
          "shell.execute_reply": "2023-10-05T14:50:34.298424Z"
        },
        "papermill": {
          "duration": 0.014596,
          "end_time": "2023-10-05T14:50:34.301564",
          "exception": false,
          "start_time": "2023-10-05T14:50:34.286968",
          "status": "completed"
        },
        "tags": [],
        "id": "55cddf8f",
        "outputId": "5cb6e684-f1a4-4ba9-de7a-69bde0c61172"
      },
      "outputs": [
        {
          "name": "stdout",
          "output_type": "stream",
          "text": [
            "number of rows = 53 and number of columns = 12\n"
          ]
        }
      ],
      "source": [
        "num_of_rows , nums_of_columns = df.shape\n",
        "print(f\"number of rows = {num_of_rows} and number of columns = {nums_of_columns}\")"
      ]
    },
    {
      "cell_type": "code",
      "execution_count": null,
      "id": "87ca8a47",
      "metadata": {
        "execution": {
          "iopub.execute_input": "2023-10-05T14:50:34.314632Z",
          "iopub.status.busy": "2023-10-05T14:50:34.313847Z",
          "iopub.status.idle": "2023-10-05T14:50:34.321257Z",
          "shell.execute_reply": "2023-10-05T14:50:34.319997Z"
        },
        "papermill": {
          "duration": 0.016387,
          "end_time": "2023-10-05T14:50:34.323438",
          "exception": false,
          "start_time": "2023-10-05T14:50:34.307051",
          "status": "completed"
        },
        "tags": [],
        "id": "87ca8a47",
        "outputId": "6cbfcb81-e265-44b4-ed3b-ba793fb3b77e"
      },
      "outputs": [
        {
          "data": {
            "text/plain": [
              "Index(['Country/Region', '2018', '2019', '2020', '2021', '2022', 'Rank',\n",
              "       'CCA3', 'Country/Territory', 'Capital', 'Continent', '2022 Population'],\n",
              "      dtype='object')"
            ]
          },
          "execution_count": 6,
          "metadata": {},
          "output_type": "execute_result"
        }
      ],
      "source": [
        "df.columns"
      ]
    },
    {
      "cell_type": "code",
      "execution_count": null,
      "id": "c376c61c",
      "metadata": {
        "execution": {
          "iopub.execute_input": "2023-10-05T14:50:34.339529Z",
          "iopub.status.busy": "2023-10-05T14:50:34.338927Z",
          "iopub.status.idle": "2023-10-05T14:50:34.369797Z",
          "shell.execute_reply": "2023-10-05T14:50:34.369069Z"
        },
        "papermill": {
          "duration": 0.040297,
          "end_time": "2023-10-05T14:50:34.372200",
          "exception": false,
          "start_time": "2023-10-05T14:50:34.331903",
          "status": "completed"
        },
        "tags": [],
        "id": "c376c61c",
        "outputId": "beb2f3ef-35da-4c10-8c3c-da0c3057c7bb"
      },
      "outputs": [
        {
          "data": {
            "text/html": [
              "<div>\n",
              "<style scoped>\n",
              "    .dataframe tbody tr th:only-of-type {\n",
              "        vertical-align: middle;\n",
              "    }\n",
              "\n",
              "    .dataframe tbody tr th {\n",
              "        vertical-align: top;\n",
              "    }\n",
              "\n",
              "    .dataframe thead th {\n",
              "        text-align: right;\n",
              "    }\n",
              "</style>\n",
              "<table border=\"1\" class=\"dataframe\">\n",
              "  <thead>\n",
              "    <tr style=\"text-align: right;\">\n",
              "      <th></th>\n",
              "      <th>2018</th>\n",
              "      <th>2019</th>\n",
              "      <th>2020</th>\n",
              "      <th>2021</th>\n",
              "      <th>2022</th>\n",
              "      <th>Rank</th>\n",
              "      <th>2022 Population</th>\n",
              "    </tr>\n",
              "  </thead>\n",
              "  <tbody>\n",
              "    <tr>\n",
              "      <th>count</th>\n",
              "      <td>52.000000</td>\n",
              "      <td>52.000000</td>\n",
              "      <td>52.000000</td>\n",
              "      <td>53.000000</td>\n",
              "      <td>52.000000</td>\n",
              "      <td>53.000000</td>\n",
              "      <td>5.300000e+01</td>\n",
              "    </tr>\n",
              "    <tr>\n",
              "      <th>mean</th>\n",
              "      <td>1782.692308</td>\n",
              "      <td>1833.461538</td>\n",
              "      <td>1989.423077</td>\n",
              "      <td>1952.075472</td>\n",
              "      <td>2046.730769</td>\n",
              "      <td>45.698113</td>\n",
              "      <td>1.143409e+08</td>\n",
              "    </tr>\n",
              "    <tr>\n",
              "      <th>std</th>\n",
              "      <td>5849.555410</td>\n",
              "      <td>6009.552815</td>\n",
              "      <td>6659.770771</td>\n",
              "      <td>6321.729120</td>\n",
              "      <td>6554.724900</td>\n",
              "      <td>36.322056</td>\n",
              "      <td>2.691011e+08</td>\n",
              "    </tr>\n",
              "    <tr>\n",
              "      <th>min</th>\n",
              "      <td>10.000000</td>\n",
              "      <td>10.000000</td>\n",
              "      <td>0.000000</td>\n",
              "      <td>10.000000</td>\n",
              "      <td>10.000000</td>\n",
              "      <td>1.000000</td>\n",
              "      <td>5.180829e+06</td>\n",
              "    </tr>\n",
              "    <tr>\n",
              "      <th>25%</th>\n",
              "      <td>50.000000</td>\n",
              "      <td>57.500000</td>\n",
              "      <td>67.500000</td>\n",
              "      <td>60.000000</td>\n",
              "      <td>67.500000</td>\n",
              "      <td>17.000000</td>\n",
              "      <td>1.784391e+07</td>\n",
              "    </tr>\n",
              "    <tr>\n",
              "      <th>50%</th>\n",
              "      <td>190.000000</td>\n",
              "      <td>230.000000</td>\n",
              "      <td>240.000000</td>\n",
              "      <td>270.000000</td>\n",
              "      <td>260.000000</td>\n",
              "      <td>37.000000</td>\n",
              "      <td>3.985714e+07</td>\n",
              "    </tr>\n",
              "    <tr>\n",
              "      <th>75%</th>\n",
              "      <td>902.500000</td>\n",
              "      <td>915.000000</td>\n",
              "      <td>942.500000</td>\n",
              "      <td>900.000000</td>\n",
              "      <td>1037.500000</td>\n",
              "      <td>68.000000</td>\n",
              "      <td>8.855057e+07</td>\n",
              "    </tr>\n",
              "    <tr>\n",
              "      <th>max</th>\n",
              "      <td>40250.000000</td>\n",
              "      <td>41450.000000</td>\n",
              "      <td>46360.000000</td>\n",
              "      <td>43990.000000</td>\n",
              "      <td>45070.000000</td>\n",
              "      <td>124.000000</td>\n",
              "      <td>1.425887e+09</td>\n",
              "    </tr>\n",
              "  </tbody>\n",
              "</table>\n",
              "</div>"
            ],
            "text/plain": [
              "               2018          2019          2020          2021          2022  \\\n",
              "count     52.000000     52.000000     52.000000     53.000000     52.000000   \n",
              "mean    1782.692308   1833.461538   1989.423077   1952.075472   2046.730769   \n",
              "std     5849.555410   6009.552815   6659.770771   6321.729120   6554.724900   \n",
              "min       10.000000     10.000000      0.000000     10.000000     10.000000   \n",
              "25%       50.000000     57.500000     67.500000     60.000000     67.500000   \n",
              "50%      190.000000    230.000000    240.000000    270.000000    260.000000   \n",
              "75%      902.500000    915.000000    942.500000    900.000000   1037.500000   \n",
              "max    40250.000000  41450.000000  46360.000000  43990.000000  45070.000000   \n",
              "\n",
              "             Rank  2022 Population  \n",
              "count   53.000000     5.300000e+01  \n",
              "mean    45.698113     1.143409e+08  \n",
              "std     36.322056     2.691011e+08  \n",
              "min      1.000000     5.180829e+06  \n",
              "25%     17.000000     1.784391e+07  \n",
              "50%     37.000000     3.985714e+07  \n",
              "75%     68.000000     8.855057e+07  \n",
              "max    124.000000     1.425887e+09  "
            ]
          },
          "execution_count": 7,
          "metadata": {},
          "output_type": "execute_result"
        }
      ],
      "source": [
        "df.describe()"
      ]
    },
    {
      "cell_type": "code",
      "execution_count": null,
      "id": "88121971",
      "metadata": {
        "execution": {
          "iopub.execute_input": "2023-10-05T14:50:34.386694Z",
          "iopub.status.busy": "2023-10-05T14:50:34.385509Z",
          "iopub.status.idle": "2023-10-05T14:50:34.394051Z",
          "shell.execute_reply": "2023-10-05T14:50:34.393290Z"
        },
        "papermill": {
          "duration": 0.017835,
          "end_time": "2023-10-05T14:50:34.395881",
          "exception": false,
          "start_time": "2023-10-05T14:50:34.378046",
          "status": "completed"
        },
        "tags": [],
        "id": "88121971",
        "outputId": "e0731e5f-a9c7-4861-9739-ee9245739314"
      },
      "outputs": [
        {
          "data": {
            "text/plain": [
              "Country/Region        object\n",
              "2018                 float64\n",
              "2019                 float64\n",
              "2020                 float64\n",
              "2021                   int64\n",
              "2022                 float64\n",
              "Rank                   int64\n",
              "CCA3                  object\n",
              "Country/Territory     object\n",
              "Capital               object\n",
              "Continent             object\n",
              "2022 Population        int64\n",
              "dtype: object"
            ]
          },
          "execution_count": 8,
          "metadata": {},
          "output_type": "execute_result"
        }
      ],
      "source": [
        "df.dtypes"
      ]
    },
    {
      "cell_type": "code",
      "execution_count": null,
      "id": "f73f3011",
      "metadata": {
        "execution": {
          "iopub.execute_input": "2023-10-05T14:50:34.410075Z",
          "iopub.status.busy": "2023-10-05T14:50:34.409263Z",
          "iopub.status.idle": "2023-10-05T14:50:34.418658Z",
          "shell.execute_reply": "2023-10-05T14:50:34.417389Z"
        },
        "papermill": {
          "duration": 0.019053,
          "end_time": "2023-10-05T14:50:34.420819",
          "exception": false,
          "start_time": "2023-10-05T14:50:34.401766",
          "status": "completed"
        },
        "tags": [],
        "id": "f73f3011",
        "outputId": "4aa279e8-5f32-4cbd-fde6-23df8483a706"
      },
      "outputs": [
        {
          "data": {
            "text/plain": [
              "Country/Region       0\n",
              "2018                 1\n",
              "2019                 1\n",
              "2020                 1\n",
              "2021                 0\n",
              "2022                 1\n",
              "Rank                 0\n",
              "CCA3                 0\n",
              "Country/Territory    0\n",
              "Capital              0\n",
              "Continent            0\n",
              "2022 Population      0\n",
              "dtype: int64"
            ]
          },
          "execution_count": 9,
          "metadata": {},
          "output_type": "execute_result"
        }
      ],
      "source": [
        "missing_values = df.isnull().sum()\n",
        "missing_values"
      ]
    },
    {
      "cell_type": "code",
      "execution_count": null,
      "id": "8ad49f6c",
      "metadata": {
        "execution": {
          "iopub.execute_input": "2023-10-05T14:50:34.435833Z",
          "iopub.status.busy": "2023-10-05T14:50:34.435158Z",
          "iopub.status.idle": "2023-10-05T14:50:34.460655Z",
          "shell.execute_reply": "2023-10-05T14:50:34.459352Z"
        },
        "papermill": {
          "duration": 0.036132,
          "end_time": "2023-10-05T14:50:34.463328",
          "exception": false,
          "start_time": "2023-10-05T14:50:34.427196",
          "status": "completed"
        },
        "tags": [],
        "id": "8ad49f6c",
        "outputId": "ae851c40-ac61-4c63-cdce-07b2189ff363"
      },
      "outputs": [
        {
          "data": {
            "text/plain": [
              "Country/Region  CCA3  Country/Territory  Capital       Continent      2022 Population\n",
              "Argentina       ARG   Argentina          Buenos Aires  South America  45510318           1\n",
              "Malaysia        MYS   Malaysia           Kuala Lumpur  Asia           33938221           1\n",
              "Myanmar         MMR   Myanmar            Nay Pyi Taw   Asia           54179306           1\n",
              "Nepal           NPL   Nepal              Kathmandu     Asia           30547580           1\n",
              "Netherlands     NLD   Netherlands        Amsterdam     Europe         17564014           1\n",
              "Name: count, dtype: int64"
            ]
          },
          "execution_count": 10,
          "metadata": {},
          "output_type": "execute_result"
        }
      ],
      "source": [
        "unique_values = df[['Country/Region','CCA3','Country/Territory', 'Capital', 'Continent', '2022 Population']].value_counts()\n",
        "unique_values.head(5)"
      ]
    },
    {
      "cell_type": "code",
      "execution_count": null,
      "id": "49a60c49",
      "metadata": {
        "execution": {
          "iopub.execute_input": "2023-10-05T14:50:34.479437Z",
          "iopub.status.busy": "2023-10-05T14:50:34.478753Z",
          "iopub.status.idle": "2023-10-05T14:50:34.484963Z",
          "shell.execute_reply": "2023-10-05T14:50:34.484157Z"
        },
        "papermill": {
          "duration": 0.016392,
          "end_time": "2023-10-05T14:50:34.487033",
          "exception": false,
          "start_time": "2023-10-05T14:50:34.470641",
          "status": "completed"
        },
        "tags": [],
        "id": "49a60c49",
        "outputId": "2fa6b247-70b3-4cf8-9caa-fdb7d2a6dbfb"
      },
      "outputs": [
        {
          "data": {
            "text/plain": [
              "array(['Asia', 'South America', 'Africa', 'Europe', 'North America',\n",
              "       'Oceania'], dtype=object)"
            ]
          },
          "execution_count": 11,
          "metadata": {},
          "output_type": "execute_result"
        }
      ],
      "source": [
        "unique_continents = df['Continent'].unique()\n",
        "unique_continents"
      ]
    },
    {
      "cell_type": "code",
      "execution_count": null,
      "id": "e0f84799",
      "metadata": {
        "execution": {
          "iopub.execute_input": "2023-10-05T14:50:35.460607Z",
          "iopub.status.busy": "2023-10-05T14:50:35.460240Z",
          "iopub.status.idle": "2023-10-05T14:50:35.466998Z",
          "shell.execute_reply": "2023-10-05T14:50:35.465909Z"
        },
        "papermill": {
          "duration": 0.018012,
          "end_time": "2023-10-05T14:50:35.469147",
          "exception": false,
          "start_time": "2023-10-05T14:50:35.451135",
          "status": "completed"
        },
        "tags": [],
        "id": "e0f84799",
        "outputId": "41252c81-9b01-42f0-faa6-fe106fafa893"
      },
      "outputs": [
        {
          "data": {
            "text/plain": [
              "Index(['Country/Region', '2018', '2019', '2020', '2021', '2022', 'Rank',\n",
              "       'CCA3', 'Country/Territory', 'Capital', 'Continent', '2022 Population'],\n",
              "      dtype='object')"
            ]
          },
          "execution_count": 15,
          "metadata": {},
          "output_type": "execute_result"
        }
      ],
      "source": [
        "df.columns"
      ]
    },
    {
      "cell_type": "code",
      "execution_count": null,
      "id": "0d77eaf3",
      "metadata": {
        "execution": {
          "iopub.execute_input": "2023-10-05T14:50:36.072087Z",
          "iopub.status.busy": "2023-10-05T14:50:36.070871Z",
          "iopub.status.idle": "2023-10-05T14:50:36.075743Z",
          "shell.execute_reply": "2023-10-05T14:50:36.074986Z"
        },
        "papermill": {
          "duration": 0.016763,
          "end_time": "2023-10-05T14:50:36.077500",
          "exception": false,
          "start_time": "2023-10-05T14:50:36.060737",
          "status": "completed"
        },
        "tags": [],
        "id": "0d77eaf3"
      },
      "outputs": [],
      "source": [
        "df2 = df.copy()"
      ]
    },
    {
      "cell_type": "code",
      "execution_count": null,
      "id": "ffe55767",
      "metadata": {
        "collapsed": true,
        "execution": {
          "iopub.execute_input": "2023-10-05T14:50:36.097208Z",
          "iopub.status.busy": "2023-10-05T14:50:36.096335Z",
          "iopub.status.idle": "2023-10-05T14:50:36.103294Z",
          "shell.execute_reply": "2023-10-05T14:50:36.101924Z"
        },
        "jupyter": {
          "outputs_hidden": true
        },
        "papermill": {
          "duration": 0.019267,
          "end_time": "2023-10-05T14:50:36.105318",
          "exception": false,
          "start_time": "2023-10-05T14:50:36.086051",
          "status": "completed"
        },
        "tags": [],
        "id": "ffe55767"
      },
      "outputs": [],
      "source": [
        "df2 = df2.drop(['CCA3'], axis=1)"
      ]
    },
    {
      "cell_type": "code",
      "execution_count": null,
      "id": "8617b269",
      "metadata": {
        "execution": {
          "iopub.execute_input": "2023-10-05T14:50:36.124247Z",
          "iopub.status.busy": "2023-10-05T14:50:36.123830Z",
          "iopub.status.idle": "2023-10-05T14:50:36.131086Z",
          "shell.execute_reply": "2023-10-05T14:50:36.129928Z"
        },
        "papermill": {
          "duration": 0.019289,
          "end_time": "2023-10-05T14:50:36.133056",
          "exception": false,
          "start_time": "2023-10-05T14:50:36.113767",
          "status": "completed"
        },
        "tags": [],
        "id": "8617b269"
      },
      "outputs": [],
      "source": [
        "df2 = df2.drop(['Country/Region'], axis=1)"
      ]
    },
    {
      "cell_type": "code",
      "execution_count": null,
      "id": "dfb564b0",
      "metadata": {
        "execution": {
          "iopub.execute_input": "2023-10-05T14:50:36.152134Z",
          "iopub.status.busy": "2023-10-05T14:50:36.151495Z",
          "iopub.status.idle": "2023-10-05T14:50:36.160714Z",
          "shell.execute_reply": "2023-10-05T14:50:36.159353Z"
        },
        "papermill": {
          "duration": 0.021474,
          "end_time": "2023-10-05T14:50:36.163126",
          "exception": false,
          "start_time": "2023-10-05T14:50:36.141652",
          "status": "completed"
        },
        "tags": [],
        "id": "dfb564b0"
      },
      "outputs": [],
      "source": [
        "df2['2018'].fillna(df2['2018'].mean() ,inplace=True)\n",
        "df2['2019'].fillna(df2['2019'].mean() ,inplace=True)\n",
        "df2['2020'].fillna(df2['2020'].mean() ,inplace=True)\n",
        "df2['2022'].fillna(df2['2022'].mean() ,inplace=True)"
      ]
    },
    {
      "cell_type": "code",
      "execution_count": null,
      "id": "5a0dbc81",
      "metadata": {
        "execution": {
          "iopub.execute_input": "2023-10-05T14:50:36.182067Z",
          "iopub.status.busy": "2023-10-05T14:50:36.181730Z",
          "iopub.status.idle": "2023-10-05T14:50:36.190074Z",
          "shell.execute_reply": "2023-10-05T14:50:36.188781Z"
        },
        "papermill": {
          "duration": 0.020587,
          "end_time": "2023-10-05T14:50:36.192367",
          "exception": false,
          "start_time": "2023-10-05T14:50:36.171780",
          "status": "completed"
        },
        "tags": [],
        "id": "5a0dbc81",
        "outputId": "1fee87ba-a963-4aa8-9f81-a8d17e6c319b"
      },
      "outputs": [
        {
          "data": {
            "text/plain": [
              "1425887337"
            ]
          },
          "execution_count": 22,
          "metadata": {},
          "output_type": "execute_result"
        }
      ],
      "source": [
        "max_population_value = df2['2022 Population'].max()\n",
        "max_population_value"
      ]
    },
    {
      "cell_type": "code",
      "execution_count": null,
      "id": "16cafd4e",
      "metadata": {
        "execution": {
          "iopub.execute_input": "2023-10-05T14:50:36.211859Z",
          "iopub.status.busy": "2023-10-05T14:50:36.211417Z",
          "iopub.status.idle": "2023-10-05T14:50:36.231524Z",
          "shell.execute_reply": "2023-10-05T14:50:36.230263Z"
        },
        "papermill": {
          "duration": 0.032796,
          "end_time": "2023-10-05T14:50:36.233928",
          "exception": false,
          "start_time": "2023-10-05T14:50:36.201132",
          "status": "completed"
        },
        "tags": [],
        "id": "16cafd4e",
        "outputId": "60b5a1b8-11da-4a88-c644-3298d49e4b7c"
      },
      "outputs": [
        {
          "data": {
            "text/html": [
              "<div>\n",
              "<style scoped>\n",
              "    .dataframe tbody tr th:only-of-type {\n",
              "        vertical-align: middle;\n",
              "    }\n",
              "\n",
              "    .dataframe tbody tr th {\n",
              "        vertical-align: top;\n",
              "    }\n",
              "\n",
              "    .dataframe thead th {\n",
              "        text-align: right;\n",
              "    }\n",
              "</style>\n",
              "<table border=\"1\" class=\"dataframe\">\n",
              "  <thead>\n",
              "    <tr style=\"text-align: right;\">\n",
              "      <th></th>\n",
              "      <th>2018</th>\n",
              "      <th>2019</th>\n",
              "      <th>2020</th>\n",
              "      <th>2021</th>\n",
              "      <th>2022</th>\n",
              "      <th>Rank</th>\n",
              "      <th>Country/Territory</th>\n",
              "      <th>Capital</th>\n",
              "      <th>Continent</th>\n",
              "      <th>2022 Population</th>\n",
              "    </tr>\n",
              "  </thead>\n",
              "  <tbody>\n",
              "    <tr>\n",
              "      <th>32</th>\n",
              "      <td>130.000000</td>\n",
              "      <td>130.000000</td>\n",
              "      <td>160.000000</td>\n",
              "      <td>140</td>\n",
              "      <td>130.0</td>\n",
              "      <td>113</td>\n",
              "      <td>Singapore</td>\n",
              "      <td>Singapore</td>\n",
              "      <td>Asia</td>\n",
              "      <td>5975689</td>\n",
              "    </tr>\n",
              "    <tr>\n",
              "      <th>35</th>\n",
              "      <td>80.000000</td>\n",
              "      <td>90.000000</td>\n",
              "      <td>90.000000</td>\n",
              "      <td>90</td>\n",
              "      <td>100.0</td>\n",
              "      <td>123</td>\n",
              "      <td>New Zealand</td>\n",
              "      <td>Wellington</td>\n",
              "      <td>Oceania</td>\n",
              "      <td>5185288</td>\n",
              "    </tr>\n",
              "    <tr>\n",
              "      <th>37</th>\n",
              "      <td>60.000000</td>\n",
              "      <td>70.000000</td>\n",
              "      <td>70.000000</td>\n",
              "      <td>70</td>\n",
              "      <td>70.0</td>\n",
              "      <td>88</td>\n",
              "      <td>Czech Republic</td>\n",
              "      <td>Prague</td>\n",
              "      <td>Europe</td>\n",
              "      <td>10493986</td>\n",
              "    </tr>\n",
              "    <tr>\n",
              "      <th>39</th>\n",
              "      <td>40.000000</td>\n",
              "      <td>50.000000</td>\n",
              "      <td>60.000000</td>\n",
              "      <td>60</td>\n",
              "      <td>60.0</td>\n",
              "      <td>87</td>\n",
              "      <td>Sweden</td>\n",
              "      <td>Stockholm</td>\n",
              "      <td>Europe</td>\n",
              "      <td>10549347</td>\n",
              "    </tr>\n",
              "    <tr>\n",
              "      <th>42</th>\n",
              "      <td>1782.692308</td>\n",
              "      <td>1833.461538</td>\n",
              "      <td>1989.423077</td>\n",
              "      <td>50</td>\n",
              "      <td>50.0</td>\n",
              "      <td>105</td>\n",
              "      <td>Serbia</td>\n",
              "      <td>Belgrade</td>\n",
              "      <td>Europe</td>\n",
              "      <td>7221365</td>\n",
              "    </tr>\n",
              "    <tr>\n",
              "      <th>45</th>\n",
              "      <td>30.000000</td>\n",
              "      <td>40.000000</td>\n",
              "      <td>40.000000</td>\n",
              "      <td>40</td>\n",
              "      <td>40.0</td>\n",
              "      <td>94</td>\n",
              "      <td>Hungary</td>\n",
              "      <td>Budapest</td>\n",
              "      <td>Europe</td>\n",
              "      <td>9967308</td>\n",
              "    </tr>\n",
              "    <tr>\n",
              "      <th>46</th>\n",
              "      <td>10.000000</td>\n",
              "      <td>20.000000</td>\n",
              "      <td>20.000000</td>\n",
              "      <td>20</td>\n",
              "      <td>20.0</td>\n",
              "      <td>81</td>\n",
              "      <td>Belgium</td>\n",
              "      <td>Brussels</td>\n",
              "      <td>Europe</td>\n",
              "      <td>11655930</td>\n",
              "    </tr>\n",
              "    <tr>\n",
              "      <th>47</th>\n",
              "      <td>20.000000</td>\n",
              "      <td>20.000000</td>\n",
              "      <td>10.000000</td>\n",
              "      <td>10</td>\n",
              "      <td>20.0</td>\n",
              "      <td>115</td>\n",
              "      <td>Denmark</td>\n",
              "      <td>Copenhagen</td>\n",
              "      <td>Europe</td>\n",
              "      <td>5882261</td>\n",
              "    </tr>\n",
              "    <tr>\n",
              "      <th>48</th>\n",
              "      <td>10.000000</td>\n",
              "      <td>20.000000</td>\n",
              "      <td>20.000000</td>\n",
              "      <td>20</td>\n",
              "      <td>20.0</td>\n",
              "      <td>118</td>\n",
              "      <td>Finland</td>\n",
              "      <td>Helsinki</td>\n",
              "      <td>Europe</td>\n",
              "      <td>5540745</td>\n",
              "    </tr>\n",
              "    <tr>\n",
              "      <th>49</th>\n",
              "      <td>10.000000</td>\n",
              "      <td>10.000000</td>\n",
              "      <td>10.000000</td>\n",
              "      <td>10</td>\n",
              "      <td>20.0</td>\n",
              "      <td>101</td>\n",
              "      <td>Switzerland</td>\n",
              "      <td>Bern</td>\n",
              "      <td>Europe</td>\n",
              "      <td>8740472</td>\n",
              "    </tr>\n",
              "    <tr>\n",
              "      <th>51</th>\n",
              "      <td>10.000000</td>\n",
              "      <td>10.000000</td>\n",
              "      <td>10.000000</td>\n",
              "      <td>20</td>\n",
              "      <td>10.0</td>\n",
              "      <td>124</td>\n",
              "      <td>Costa Rica</td>\n",
              "      <td>San José</td>\n",
              "      <td>North America</td>\n",
              "      <td>5180829</td>\n",
              "    </tr>\n",
              "  </tbody>\n",
              "</table>\n",
              "</div>"
            ],
            "text/plain": [
              "           2018         2019         2020  2021   2022  Rank  \\\n",
              "32   130.000000   130.000000   160.000000   140  130.0   113   \n",
              "35    80.000000    90.000000    90.000000    90  100.0   123   \n",
              "37    60.000000    70.000000    70.000000    70   70.0    88   \n",
              "39    40.000000    50.000000    60.000000    60   60.0    87   \n",
              "42  1782.692308  1833.461538  1989.423077    50   50.0   105   \n",
              "45    30.000000    40.000000    40.000000    40   40.0    94   \n",
              "46    10.000000    20.000000    20.000000    20   20.0    81   \n",
              "47    20.000000    20.000000    10.000000    10   20.0   115   \n",
              "48    10.000000    20.000000    20.000000    20   20.0   118   \n",
              "49    10.000000    10.000000    10.000000    10   20.0   101   \n",
              "51    10.000000    10.000000    10.000000    20   10.0   124   \n",
              "\n",
              "   Country/Territory     Capital      Continent  2022 Population  \n",
              "32         Singapore   Singapore           Asia          5975689  \n",
              "35       New Zealand  Wellington        Oceania          5185288  \n",
              "37    Czech Republic      Prague         Europe         10493986  \n",
              "39            Sweden   Stockholm         Europe         10549347  \n",
              "42            Serbia    Belgrade         Europe          7221365  \n",
              "45           Hungary    Budapest         Europe          9967308  \n",
              "46           Belgium    Brussels         Europe         11655930  \n",
              "47           Denmark  Copenhagen         Europe          5882261  \n",
              "48           Finland    Helsinki         Europe          5540745  \n",
              "49       Switzerland        Bern         Europe          8740472  \n",
              "51        Costa Rica    San José  North America          5180829  "
            ]
          },
          "execution_count": 23,
          "metadata": {},
          "output_type": "execute_result"
        }
      ],
      "source": [
        "high_population_countries = df2[df2['2022 Population'] < 15000000]\n",
        "high_population_countries"
      ]
    },
    {
      "cell_type": "code",
      "execution_count": null,
      "id": "58fae6e6",
      "metadata": {
        "papermill": {
          "duration": 0.008893,
          "end_time": "2023-10-05T14:50:36.252084",
          "exception": false,
          "start_time": "2023-10-05T14:50:36.243191",
          "status": "completed"
        },
        "tags": [],
        "id": "58fae6e6"
      },
      "outputs": [],
      "source": []
    }
  ],
  "metadata": {
    "kernelspec": {
      "display_name": "Python 3",
      "language": "python",
      "name": "python3"
    },
    "language_info": {
      "codemirror_mode": {
        "name": "ipython",
        "version": 3
      },
      "file_extension": ".py",
      "mimetype": "text/x-python",
      "name": "python",
      "nbconvert_exporter": "python",
      "pygments_lexer": "ipython3",
      "version": "3.10.12"
    },
    "papermill": {
      "default_parameters": {},
      "duration": 8.615465,
      "end_time": "2023-10-05T14:50:37.186664",
      "environment_variables": {},
      "exception": null,
      "input_path": "__notebook__.ipynb",
      "output_path": "__notebook__.ipynb",
      "parameters": {},
      "start_time": "2023-10-05T14:50:28.571199",
      "version": "2.4.0"
    },
    "colab": {
      "provenance": []
    }
  },
  "nbformat": 4,
  "nbformat_minor": 5
}